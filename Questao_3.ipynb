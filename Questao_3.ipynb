{
  "nbformat": 4,
  "nbformat_minor": 0,
  "metadata": {
    "colab": {
      "name": "Questao_3.ipynb",
      "version": "0.3.2",
      "provenance": [],
      "collapsed_sections": []
    },
    "kernelspec": {
      "name": "python3",
      "display_name": "Python 3"
    }
  },
  "cells": [
    {
      "metadata": {
        "id": "h9M7exYDlg4k",
        "colab_type": "text"
      },
      "cell_type": "markdown",
      "source": [
        "Quando quiser saber se um carro está ligado ou não, ao invés de utilizar a função isligado(), printe a classe, por exemplo:\n",
        "\n",
        "\n",
        "> carro = Automovel().\n",
        "\n",
        "\n",
        "Se deseja, ver o estado de carro, utilize:\n",
        "\n",
        ">print (carro)\n",
        "\n",
        "A função isligado(), retorna a boleana para pergunta se o veiculo está ligado.\n",
        "\n"
      ]
    },
    {
      "metadata": {
        "id": "Vf066cHZXKVP",
        "colab_type": "code",
        "colab": {}
      },
      "cell_type": "code",
      "source": [
        "class Veiculo():\n",
        "  def __init__(self):\n",
        "    self.ligado = False\n",
        "    \n",
        "  @property\n",
        "  def ligado(self):\n",
        "      return self.__ligado\n",
        "    \n",
        "  @ligado.setter\n",
        "  def ligado(self, ligado):\n",
        "      self.__ligado = ligado\n",
        "    \n",
        "  def isligado(self):\n",
        "    return (self.ligado)\n",
        "  \n",
        "  def __str__(self):\n",
        "    if (self.ligado == True):\n",
        "      return (\"Veiculo Ligado\")\n",
        "    else:\n",
        "      return (\"Veiculo Desligado\")\n",
        "  \n",
        "  def ligar(self):\n",
        "    if (self.ligado == False):\n",
        "      self.ligado = True\n",
        "    \n",
        "    else: \n",
        "      print (\"Veiculo já está ligado\")\n",
        "      \n",
        "  def desligar(self):\n",
        "    if (self.ligado == False):\n",
        "      print (\"Veiculo já está desligado\")\n",
        "      \n",
        "    else: \n",
        "      self.ligado = False"
      ],
      "execution_count": 0,
      "outputs": []
    },
    {
      "metadata": {
        "id": "WnfNLQSrXKzf",
        "colab_type": "code",
        "colab": {}
      },
      "cell_type": "code",
      "source": [
        "class Automovel(Veiculo):\n",
        "  \n",
        "  def __init__(self):\n",
        "    super().__init__()\n",
        "  \n",
        "  def __str__(self):\n",
        "    if (super().isligado() == True):\n",
        "      return (\"Automovel Ligado\")\n",
        "    else:\n",
        "      return (\"Automovel Desligado\")\n",
        "  \n",
        "  def ligar(self):\n",
        "    if (super().isligado() == True):\n",
        "      print (\"Automovel já está ligado\")\n",
        "      \n",
        "    else: \n",
        "      super().ligar()\n",
        "      \n",
        "  def desligar(self):\n",
        "    if (super().isligado() == False):\n",
        "      print (\"Automovel já está desligado\")\n",
        "    else: \n",
        "      super().desligar()\n",
        "      \n",
        "  def isligado():\n",
        "    return super().isligado()"
      ],
      "execution_count": 0,
      "outputs": []
    },
    {
      "metadata": {
        "id": "kb8ntux40JA0",
        "colab_type": "code",
        "colab": {}
      },
      "cell_type": "code",
      "source": [
        "class Motocicleta(Veiculo):\n",
        "  def __init__(self):\n",
        "    super().__init__()\n",
        "  \n",
        "  def __str__(self):\n",
        "    if (super().isligado() == True):\n",
        "      return (\"Motocicleta Ligada\")\n",
        "    else:\n",
        "      return (\"Motocicleta Desligada\")\n",
        "  \n",
        "  def ligar(self):\n",
        "    if (super().isligado() == True):\n",
        "      print (\"Motocicleta já está ligada\")\n",
        "      \n",
        "    else: \n",
        "      super().ligar()\n",
        "      \n",
        "      \n",
        "  def desligar(self):\n",
        "    if (super().isligado() == False):\n",
        "      print (\"Motocicleta já está desligada\")\n",
        "    else: \n",
        "      super().desligar()\n",
        "      \n",
        "  def isligado():\n",
        "    return super().isligado()"
      ],
      "execution_count": 0,
      "outputs": []
    },
    {
      "metadata": {
        "id": "jwBwjwSQXSvU",
        "colab_type": "code",
        "colab": {}
      },
      "cell_type": "code",
      "source": [
        "class Onibus(Veiculo):\n",
        "  def __init__(self):\n",
        "    super().__init__()\n",
        "  \n",
        "  def __str__(self):\n",
        "    if (super().isligado() == True):\n",
        "      return (\"Onibus Ligado\")\n",
        "    else:\n",
        "      return (\"Onibus Desligado\")\n",
        "  \n",
        "  def ligar(self):\n",
        "    if (super().isligado() == True):\n",
        "      print (\"Onibus já está ligado\")\n",
        "      \n",
        "    else: \n",
        "      super().ligar()\n",
        "      \n",
        "      \n",
        "  def desligar(self):\n",
        "    if (super().isligado() == False):\n",
        "      print (\"Onibus já está desligado\")\n",
        "    else: \n",
        "      super().desligar()\n",
        "      \n",
        "  def isligado():\n",
        "    return super().isligado()"
      ],
      "execution_count": 0,
      "outputs": []
    },
    {
      "metadata": {
        "id": "GEiOE6PDjIbv",
        "colab_type": "code",
        "colab": {}
      },
      "cell_type": "code",
      "source": [
        "carro = Automovel()\n",
        "moto = Motocicleta()\n",
        "busao = Onibus()"
      ],
      "execution_count": 0,
      "outputs": []
    },
    {
      "metadata": {
        "id": "L7cpfUJ_jVPe",
        "colab_type": "code",
        "colab": {
          "base_uri": "https://localhost:8080/",
          "height": 71
        },
        "outputId": "e78d80f4-a7c1-45e0-b473-3e586a031505"
      },
      "cell_type": "code",
      "source": [
        "print(carro)\n",
        "print(moto)\n",
        "print(busao)"
      ],
      "execution_count": 78,
      "outputs": [
        {
          "output_type": "stream",
          "text": [
            "Automovel Desligado\n",
            "Motocicleta Desligada\n",
            "Onibus Desligado\n"
          ],
          "name": "stdout"
        }
      ]
    },
    {
      "metadata": {
        "id": "icgHMtZljZ-v",
        "colab_type": "code",
        "colab": {
          "base_uri": "https://localhost:8080/",
          "height": 71
        },
        "outputId": "6959bd18-afdb-4572-9496-3f478a4575a7"
      },
      "cell_type": "code",
      "source": [
        "carro.ligar()\n",
        "print(carro)\n",
        "print(moto)\n",
        "print(busao)"
      ],
      "execution_count": 79,
      "outputs": [
        {
          "output_type": "stream",
          "text": [
            "Automovel Ligado\n",
            "Motocicleta Desligada\n",
            "Onibus Desligado\n"
          ],
          "name": "stdout"
        }
      ]
    },
    {
      "metadata": {
        "id": "T6AvNEeKje04",
        "colab_type": "code",
        "colab": {
          "base_uri": "https://localhost:8080/",
          "height": 71
        },
        "outputId": "29cb7817-6566-40fa-e48c-fd92cbdaddc3"
      },
      "cell_type": "code",
      "source": [
        "busao.ligar()\n",
        "print(carro)\n",
        "print(moto)\n",
        "print(busao)"
      ],
      "execution_count": 80,
      "outputs": [
        {
          "output_type": "stream",
          "text": [
            "Automovel Ligado\n",
            "Motocicleta Desligada\n",
            "Onibus Ligado\n"
          ],
          "name": "stdout"
        }
      ]
    },
    {
      "metadata": {
        "id": "h_6l_fWwjktb",
        "colab_type": "code",
        "colab": {
          "base_uri": "https://localhost:8080/",
          "height": 71
        },
        "outputId": "18701bce-0307-4d2f-ee28-1bbf1ef996ae"
      },
      "cell_type": "code",
      "source": [
        "moto.ligar()\n",
        "print(carro)\n",
        "print(moto)\n",
        "print(busao)"
      ],
      "execution_count": 69,
      "outputs": [
        {
          "output_type": "stream",
          "text": [
            "Automovel Ligado\n",
            "Motocicleta Ligada\n",
            "Onibus Ligado\n"
          ],
          "name": "stdout"
        }
      ]
    },
    {
      "metadata": {
        "id": "uJq7oEogjnkj",
        "colab_type": "code",
        "colab": {
          "base_uri": "https://localhost:8080/",
          "height": 71
        },
        "outputId": "492db4e6-0a7d-4110-cfd4-21e2ff418876"
      },
      "cell_type": "code",
      "source": [
        "carro.desligar()\n",
        "print(carro)\n",
        "print(moto)\n",
        "print(busao)"
      ],
      "execution_count": 70,
      "outputs": [
        {
          "output_type": "stream",
          "text": [
            "Automovel Desligado\n",
            "Motocicleta Ligada\n",
            "Onibus Ligado\n"
          ],
          "name": "stdout"
        }
      ]
    },
    {
      "metadata": {
        "id": "7V3ljpmIjrVP",
        "colab_type": "code",
        "colab": {
          "base_uri": "https://localhost:8080/",
          "height": 71
        },
        "outputId": "19e6db30-aa3d-46d7-8a43-2492be6eec66"
      },
      "cell_type": "code",
      "source": [
        "busao.desligar()\n",
        "print(carro)\n",
        "print(moto)\n",
        "print(busao)"
      ],
      "execution_count": 71,
      "outputs": [
        {
          "output_type": "stream",
          "text": [
            "Automovel Desligado\n",
            "Motocicleta Ligada\n",
            "Onibus Desligado\n"
          ],
          "name": "stdout"
        }
      ]
    },
    {
      "metadata": {
        "id": "BwCbH3mfjxHQ",
        "colab_type": "code",
        "colab": {
          "base_uri": "https://localhost:8080/",
          "height": 71
        },
        "outputId": "f44b586a-c57c-4cff-8d48-f720dea208c5"
      },
      "cell_type": "code",
      "source": [
        "moto.desligar()\n",
        "print(carro)\n",
        "print(moto)\n",
        "print(busao)"
      ],
      "execution_count": 72,
      "outputs": [
        {
          "output_type": "stream",
          "text": [
            "Automovel Desligado\n",
            "Motocicleta Desligada\n",
            "Onibus Desligado\n"
          ],
          "name": "stdout"
        }
      ]
    }
  ]
}