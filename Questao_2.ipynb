{
  "nbformat": 4,
  "nbformat_minor": 0,
  "metadata": {
    "colab": {
      "name": "Questao_2.ipynb",
      "version": "0.3.2",
      "provenance": [],
      "collapsed_sections": []
    },
    "kernelspec": {
      "name": "python3",
      "display_name": "Python 3"
    }
  },
  "cells": [
    {
      "metadata": {
        "id": "k-tlKBiXQaSX",
        "colab_type": "text"
      },
      "cell_type": "markdown",
      "source": [
        "Segue a seguir a resolução da questão 2. \n",
        "\n",
        "Vale salientar que para a criação da Figura Complexa é necessário passar uma lista de elementos."
      ]
    },
    {
      "metadata": {
        "id": "1akwk9qu0gD9",
        "colab_type": "code",
        "colab": {}
      },
      "cell_type": "code",
      "source": [
        "class Quadrado():\n",
        "  \n",
        "  def __init__(self, lado):\n",
        "    self.lado = lado\n",
        "  \n",
        "  def __str__(self):\n",
        "    return (\"O quadrado tem como lado \" + str(self.lado))\n",
        "    \n",
        "  def area(self):\n",
        "    return (self.lado * self.lado)\n",
        "  \n",
        "  @property\n",
        "  def lado(self):\n",
        "      return self.__lado\n",
        "    \n",
        "  @lado.setter\n",
        "  def lado(self, lado):\n",
        "      try:\n",
        "        lado = int(lado) \n",
        "        self.__lado = lado\n",
        "      except ValueError as error:\n",
        "        print(f\"Voce nao colocou um numero no eixo x\")\n",
        "        self.__lado = 0\n",
        "  \n",
        "  @staticmethod\n",
        "  def build(self):\n",
        "    lado = input(\"Criando um Quadrado\\nDigite o lado: \")\n",
        "    return Quadrado(lado)"
      ],
      "execution_count": 0,
      "outputs": []
    },
    {
      "metadata": {
        "id": "SxI7TdiWXXH7",
        "colab_type": "code",
        "colab": {}
      },
      "cell_type": "code",
      "source": [
        "class Retangulo():\n",
        "  def __init__(self, lado1, lado2):\n",
        "    self.lado1 = lado1\n",
        "    self.lado2 = lado2\n",
        "  \n",
        "  def __str__(self):\n",
        "    return (\"O quadrado tem como lado \" + str(self.lado))\n",
        "    \n",
        "  def area(self):\n",
        "    return (self.lado1 * self.lado2)\n",
        "\n",
        "  @property\n",
        "  def lado1(self):\n",
        "      return self.__lado1\n",
        "    \n",
        "  @lado1.setter\n",
        "  def lado1(self, lado1):\n",
        "      try:\n",
        "        lado1 = int(lado1) \n",
        "        self.__lado1 = lado1\n",
        "      except ValueError as error:\n",
        "        print(f\"Voce nao colocou um numero no eixo x\")\n",
        "        self.__lado1 = 0\n",
        "        \n",
        "  @property\n",
        "  def lado2(self):\n",
        "      return self.__lado2\n",
        "    \n",
        "  @lado2.setter\n",
        "  def lado2(self, lado2):\n",
        "      try:\n",
        "        lado2 = int(lado2) \n",
        "        self.__lado2 = lado2\n",
        "      except ValueError as error:\n",
        "        print(f\"Voce nao colocou um numero no eixo x\")\n",
        "        self.__lado2 = 0\n",
        "  \n",
        "  @staticmethod\n",
        "  def build(self):\n",
        "    lado1 = input(\"Criando um Retangulo\\nDigite o lado: \")\n",
        "    lado2 = input(\"Digite o outro lado: \")\n",
        "    return Retangulo(lado1, lado2)\n",
        "  "
      ],
      "execution_count": 0,
      "outputs": []
    },
    {
      "metadata": {
        "id": "mDDDIf2qINt9",
        "colab_type": "code",
        "colab": {}
      },
      "cell_type": "code",
      "source": [
        "class Figura(Quadrado, Retangulo):\n",
        "  formas = {\"square\": \"Quadrado\", \"rectangle\": \"Retangulo\"}\n",
        "  \n",
        "  def __init__(self, lado1, lado2 = 1, forma = \"rectangle\"):\n",
        "    self.forma = forma\n",
        "    self.lado1 = lado1\n",
        "    self.lado2 = lado2\n",
        "    \n",
        "    if (self.forma == \"square\"):\n",
        "      Quadrado.__init__(self, self.lado1)\n",
        "    \n",
        "    elif (self.forma == \"rectangle\"):\n",
        "      Retangulo.__init__(self, self.lado1, self.lado2)\n",
        "      \n",
        "    else: \n",
        "       print (\"Invalid forma type: valid options are: {}\".format(\", \".join(type(self).formas.keys())))  \n",
        "     \n",
        "    \n",
        "  def __str__(self):\n",
        "   \n",
        "    if (self.forma == \"square\"):\n",
        "      return (\"Quadrado\\nLado: \" + str(self.lado1) + \"\\nArea: \" + str(Quadrado.area(self)))\n",
        "    \n",
        "    elif (self.forma == \"rectangle\"):\n",
        "      return (\"Retangulo\\nLado1: \" + str(self.lado1) + \"\\nLado2: \" + str(self.lado2) + \"\\nArea: \" + str(Retangulo.area(self)))\n",
        "    \n",
        "    else:\n",
        "      return (\"Forma indicada indisponivel\")\n",
        "      \n",
        "  def calcularArea(self):\n",
        "    if (self.forma == \"square\"):\n",
        "      return (Quadrado.area(self))\n",
        "    \n",
        "    elif (self.forma == \"rectangle\"):\n",
        "      return (Retangulo.area(self))\n",
        "    \n",
        "    else:\n",
        "      return (0)\n",
        "    \n",
        "  @staticmethod\n",
        "  def build_square():\n",
        "    lado1 = input(\"Digite o tamanho do lado do quadrado: \")\n",
        "    return Figura(lado1, lado1, \"square\")\n",
        "  \n",
        "  @staticmethod\n",
        "  def build_rectangle():\n",
        "    lado1 = input(\"Digite o tamanho de um lado do retangulo: \")\n",
        "    lado2 = input(\"Digite o tamanho do outro lado do retangulo: \")\n",
        "    return Figura(lado1, lado2)"
      ],
      "execution_count": 0,
      "outputs": []
    },
    {
      "metadata": {
        "id": "4W4j_tvyku7s",
        "colab_type": "code",
        "colab": {}
      },
      "cell_type": "code",
      "source": [
        "class FiguraComplexa(Figura):\n",
        "  \n",
        "  def __init__(self, figura_complexa):\n",
        "    self.figura_complexa = figura_complexa\n",
        "    self.area = 0\n",
        "    self.aux = 0\n",
        "    self.calcularArea()\n",
        "    \n",
        "    \n",
        "  def __str__(self):\n",
        "    return (\"Figura complexa\\nArea: \" + str(self.area))\n",
        "    \n",
        "  def calcularArea(self):\n",
        "    self.area = 0\n",
        "    \n",
        "    for i in self.figura_complexa:\n",
        "      self.area += i.calcularArea()\n",
        "   \n",
        "    if (self.aux == 1):\n",
        "      print(\"A area da figura é: \" + str(self.area))\n",
        "      \n",
        "    self.aux = 1"
      ],
      "execution_count": 0,
      "outputs": []
    },
    {
      "metadata": {
        "id": "KH28CC1ffort",
        "colab_type": "code",
        "colab": {
          "base_uri": "https://localhost:8080/",
          "height": 34
        },
        "outputId": "67caf372-c5aa-4215-e293-ce14b5bc6594"
      },
      "cell_type": "code",
      "source": [
        "forma1 = Figura.build_square()"
      ],
      "execution_count": 8,
      "outputs": [
        {
          "output_type": "stream",
          "text": [
            "Digite o tamanho do lado do quadrado: 3\n"
          ],
          "name": "stdout"
        }
      ]
    },
    {
      "metadata": {
        "id": "LOLPj7RYkcuF",
        "colab_type": "code",
        "colab": {
          "base_uri": "https://localhost:8080/",
          "height": 51
        },
        "outputId": "02cf2250-d74f-4fa0-f3b4-83e556571947"
      },
      "cell_type": "code",
      "source": [
        "forma2 = Figura.build_rectangle()"
      ],
      "execution_count": 9,
      "outputs": [
        {
          "output_type": "stream",
          "text": [
            "Digite o tamanho de um lado do retangulo: 2\n",
            "Digite o tamanho do outro lado do retangulo: 7\n"
          ],
          "name": "stdout"
        }
      ]
    },
    {
      "metadata": {
        "id": "GQLBFrgCTm0q",
        "colab_type": "code",
        "colab": {
          "base_uri": "https://localhost:8080/",
          "height": 34
        },
        "outputId": "74200ee3-4acf-4394-dc75-62c835883f5e"
      },
      "cell_type": "code",
      "source": [
        "forma3 = Figura.build_square()"
      ],
      "execution_count": 10,
      "outputs": [
        {
          "output_type": "stream",
          "text": [
            "Digite o tamanho do lado do quadrado: 10\n"
          ],
          "name": "stdout"
        }
      ]
    },
    {
      "metadata": {
        "id": "xbBb-OdkM1hp",
        "colab_type": "code",
        "colab": {
          "base_uri": "https://localhost:8080/",
          "height": 51
        },
        "outputId": "fd097b74-4728-4f1e-eef1-36737f879373"
      },
      "cell_type": "code",
      "source": [
        "forma4  = Figura.build_rectangle()"
      ],
      "execution_count": 11,
      "outputs": [
        {
          "output_type": "stream",
          "text": [
            "Digite o tamanho de um lado do retangulo: 5\n",
            "Digite o tamanho do outro lado do retangulo: 3\n"
          ],
          "name": "stdout"
        }
      ]
    },
    {
      "metadata": {
        "id": "WQXqcyazjNgM",
        "colab_type": "code",
        "colab": {}
      },
      "cell_type": "code",
      "source": [
        "formas = [forma1, forma2, forma3, forma4]\n",
        "\n",
        "Calculator = FiguraComplexa(formas)"
      ],
      "execution_count": 0,
      "outputs": []
    },
    {
      "metadata": {
        "id": "8kyIp6RcORhH",
        "colab_type": "code",
        "colab": {
          "base_uri": "https://localhost:8080/",
          "height": 51
        },
        "outputId": "e94ed442-982e-4151-e6d2-cb63c8504ae3"
      },
      "cell_type": "code",
      "source": [
        "print (Calculator)"
      ],
      "execution_count": 48,
      "outputs": [
        {
          "output_type": "stream",
          "text": [
            "Figura complexa\n",
            "Area: 138\n"
          ],
          "name": "stdout"
        }
      ]
    },
    {
      "metadata": {
        "id": "VMHw7prTkRKX",
        "colab_type": "code",
        "colab": {
          "base_uri": "https://localhost:8080/",
          "height": 34
        },
        "outputId": "1ce30fdb-e365-44ab-ed7b-2b390d9d1322"
      },
      "cell_type": "code",
      "source": [
        "Calculator.calcularArea()"
      ],
      "execution_count": 49,
      "outputs": [
        {
          "output_type": "stream",
          "text": [
            "A area da figura é: 138\n"
          ],
          "name": "stdout"
        }
      ]
    }
  ]
}