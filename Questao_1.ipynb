{
  "nbformat": 4,
  "nbformat_minor": 0,
  "metadata": {
    "colab": {
      "name": "Questao_1.ipynb",
      "version": "0.3.2",
      "provenance": [],
      "collapsed_sections": []
    },
    "kernelspec": {
      "name": "python3",
      "display_name": "Python 3"
    }
  },
  "cells": [
    {
      "metadata": {
        "id": "2xTSvjBjm5Qs",
        "colab_type": "code",
        "colab": {}
      },
      "cell_type": "code",
      "source": [
        "class Ponto2D(object):\n",
        "  \n",
        "  def __init__(self, x, y):\n",
        "    self.x = x\n",
        "    self.y = y\n",
        "    \n",
        "  def __str__(self, x = 0):\n",
        "    return ('x = {0}\\ny = {1}'.format(self.x, self.y))\n",
        "  \n",
        "  @property\n",
        "  def x(self):\n",
        "      return self.__x\n",
        "    \n",
        "  @x.setter\n",
        "  def x(self, x):\n",
        "      try:\n",
        "        x = int(x) \n",
        "        self.__x = x\n",
        "      except ValueError as error:\n",
        "        print(f\"Voce nao colocou um numero no eixo x\")\n",
        "        self.__x = \"Invalido\"\n",
        "      \n",
        "  @property\n",
        "  def y(self):\n",
        "      return self.__y\n",
        "    \n",
        "  @y.setter\n",
        "  def y(self, y):\n",
        "      try:\n",
        "          y = int(y)\n",
        "          self.__y = y\n",
        "      except ValueError as error:\n",
        "        print(f\"Voce nao colocou um numero no eixo y\")\n",
        "        self.__y = \"Invalido\"\n",
        "  \n",
        "  @staticmethod\n",
        "  def build():\n",
        "    x = input(\"Criando a forma 2D\\nDigite o valor do eixo x:\")\n",
        "    y = input(\"Digite o valor do eixo y:\")\n",
        "    return Ponto2D(x, y)"
      ],
      "execution_count": 0,
      "outputs": []
    },
    {
      "metadata": {
        "id": "p9YJvXZFoFno",
        "colab_type": "code",
        "colab": {}
      },
      "cell_type": "code",
      "source": [
        "class Ponto3D(Ponto2D):\n",
        "  \n",
        "  def __init__(self, x, y, z):\n",
        "    super().__init__(x, y)\n",
        "    self.z = z\n",
        "    \n",
        "  def __str__(self):\n",
        "    return (super().__str__() + \"\\nz = {0}\".format(self.z))\n",
        "  \n",
        "  @property\n",
        "  def z(self):\n",
        "      return self.__z\n",
        "    \n",
        "  @z.setter\n",
        "  def z(self, z):\n",
        "      try:\n",
        "          z = int(z)\n",
        "          self.__z = z\n",
        "      except ValueError as error:\n",
        "        print(f\"Voce nao colocou um numero no eixo z\")\n",
        "        self.__z = \"Invalido\"\n",
        "  \n",
        "  @staticmethod\n",
        "  def build():\n",
        "    x = input(\"Criando a forma 3D\\nDigite o valor do eixo x: \")\n",
        "    y = input(\"Digite o valor do eixo y: \")\n",
        "    z = input(\"Digite o valor do eixo z: \")\n",
        "    return Ponto3D(x, y, z)"
      ],
      "execution_count": 0,
      "outputs": []
    },
    {
      "metadata": {
        "id": "CCnh9d2VrX--",
        "colab_type": "code",
        "colab": {}
      },
      "cell_type": "code",
      "source": [
        "class Principal(Ponto3D):\n",
        "  \n",
        "  def __init__(self):\n",
        "    self.figura1 = Ponto2D.build()\n",
        "    self.figura2 = Ponto3D.build()\n",
        " \n",
        "  def __str__(self):\n",
        "    return \"\\n\".join([\"Figura 2D\", self.figura1.__str__(), \"Figura 3D\", self.figura2.__str__() ])    \n",
        "  "
      ],
      "execution_count": 0,
      "outputs": []
    },
    {
      "metadata": {
        "id": "xu16htQYpem4",
        "colab_type": "code",
        "colab": {
          "base_uri": "https://localhost:8080/",
          "height": 71
        },
        "outputId": "4cffa0b3-9b77-4a5c-a80b-080ed6f860bd"
      },
      "cell_type": "code",
      "source": [
        "primeira = Ponto2D.build()"
      ],
      "execution_count": 6,
      "outputs": [
        {
          "output_type": "stream",
          "text": [
            "Criando a forma 2D\n",
            "Digite o valor do eixo x:1\n",
            "Digite o valor do eixo y:2\n"
          ],
          "name": "stdout"
        }
      ]
    },
    {
      "metadata": {
        "id": "6oKwgzoNVqEL",
        "colab_type": "code",
        "colab": {
          "base_uri": "https://localhost:8080/",
          "height": 53
        },
        "outputId": "3385cd98-497b-42d4-c165-e8406cc1ee50"
      },
      "cell_type": "code",
      "source": [
        "print (primeira)"
      ],
      "execution_count": 7,
      "outputs": [
        {
          "output_type": "stream",
          "text": [
            "x = 1\n",
            "y = 2\n"
          ],
          "name": "stdout"
        }
      ]
    },
    {
      "metadata": {
        "id": "5wNrTRc9qnaE",
        "colab_type": "code",
        "colab": {}
      },
      "cell_type": "code",
      "source": [
        "segunda = Ponto3D(1, 2, 3)"
      ],
      "execution_count": 0,
      "outputs": []
    },
    {
      "metadata": {
        "id": "piheRLltiLXU",
        "colab_type": "code",
        "colab": {
          "base_uri": "https://localhost:8080/",
          "height": 71
        },
        "outputId": "38b408be-1f81-4b35-cc45-1d21cdeb786f"
      },
      "cell_type": "code",
      "source": [
        "print (segunda)"
      ],
      "execution_count": 12,
      "outputs": [
        {
          "output_type": "stream",
          "text": [
            "x = 1\n",
            "y = 2\n",
            "z = 3\n"
          ],
          "name": "stdout"
        }
      ]
    },
    {
      "metadata": {
        "id": "d3Iga9pd7UPW",
        "colab_type": "code",
        "colab": {
          "base_uri": "https://localhost:8080/",
          "height": 221
        },
        "outputId": "0e49c3fa-a7e3-405a-a545-170401317b8b"
      },
      "cell_type": "code",
      "source": [
        "forma = Principal()"
      ],
      "execution_count": 159,
      "outputs": [
        {
          "output_type": "stream",
          "text": [
            "Criando a forma 2D\n",
            "Digite o valor do eixo x:a\n",
            "Digite o valor do eixo y:b\n",
            "Voce nao colocou um numero\n",
            "Voce nao colocou um numero\n",
            "Criando a forma 3D\n",
            "Digite o valor do eixo x: c\n",
            "Digite o valor do eixo y: d\n",
            "Digite o valor do eixo z: e\n",
            "Voce nao colocou um numero\n",
            "Voce nao colocou um numero\n",
            "Voce nao colocou um numero\n"
          ],
          "name": "stdout"
        }
      ]
    },
    {
      "metadata": {
        "id": "sqcjqDpn7kpg",
        "colab_type": "code",
        "colab": {
          "base_uri": "https://localhost:8080/",
          "height": 136
        },
        "outputId": "1dd7e4fb-dfa1-4d56-e17b-ba555d2c1885"
      },
      "cell_type": "code",
      "source": [
        "print (forma)"
      ],
      "execution_count": 160,
      "outputs": [
        {
          "output_type": "stream",
          "text": [
            "Figura 2D\n",
            "x = Invalido\n",
            "y = Invalido\n",
            "Figura 3D\n",
            "x = Invalido\n",
            "y = Invalido\n",
            "z = Invalido\n"
          ],
          "name": "stdout"
        }
      ]
    }
  ]
}